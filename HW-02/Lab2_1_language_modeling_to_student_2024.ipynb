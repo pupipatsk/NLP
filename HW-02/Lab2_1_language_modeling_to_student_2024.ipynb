{
  "cells": [
    {
      "cell_type": "markdown",
      "metadata": {
        "collapsed": true,
        "id": "15QfB7RAuXAc"
      },
      "source": [
        "# Language Modeling using Ngram"
      ]
    },
    {
      "cell_type": "markdown",
      "metadata": {
        "id": "gucid6KNuXAe"
      },
      "source": [
        "In this Exercise, we are going to create a bigram language model and its variation. We will build one model for each of the following type and calculate their perplexity:\n",
        "- Unigram Model\n",
        "- Bigram Model\n",
        "- Bigram Model with Laplace smoothing\n",
        "- Bigram Model with Interpolation\n",
        "- Bigram Model with Kneser-ney Interpolation\n",
        "\n",
        "We will also use NLTK which is a natural language processing library for python to make our lives easier.\n",
        "\n"
      ]
    },
    {
      "cell_type": "code",
      "execution_count": 1,
      "metadata": {
        "id": "MRRrn78ZjL54"
      },
      "outputs": [],
      "source": [
        "# # #download corpus\n",
        "# # !wget --no-check-certificate https://github.com/ekapolc/nlp_2019/raw/master/HW4/BEST2010.zip\n",
        "# # !unzip BEST2010.zip\n",
        "# !curl -L -o BEST2010.zip https://github.com/ekapolc/nlp_2019/raw/master/HW4/BEST2010.zip\n",
        "# !unzip -o BEST2010.zip"
      ]
    },
    {
      "cell_type": "code",
      "execution_count": 2,
      "metadata": {
        "id": "qeyvLSptdKXj"
      },
      "outputs": [],
      "source": [
        "# !wget https://www.dropbox.com/s/jajdlqnp5h0ywvo/tokenized_wiki_sample.csv\n",
        "# !curl -L -o tokenized_wiki_sample.csv https://www.dropbox.com/s/jajdlqnp5h0ywvo/tokenized_wiki_sample.csv"
      ]
    },
    {
      "cell_type": "code",
      "execution_count": 3,
      "metadata": {
        "id": "GjJDeG03uXAf"
      },
      "outputs": [],
      "source": [
        "#First we import necessary library such as math, nltk, bigram, and collections.\n",
        "import math\n",
        "import nltk\n",
        "import io\n",
        "import random\n",
        "from random import shuffle\n",
        "from nltk import bigrams, trigrams\n",
        "from collections import Counter, defaultdict\n",
        "random.seed(999)"
      ]
    },
    {
      "cell_type": "markdown",
      "metadata": {
        "id": "HugXBHNEuXAh"
      },
      "source": [
        "BEST2010 is a free Thai NLP dataset by NECTEC usually used as a standard benchmark for various NLP tasks including language modeling. It is separated into 4 domains including article, encyclopedia, news, and novel. The data is already  tokenized using '|' as a separator.\n",
        "\n",
        "For example,\n",
        "\n",
        "ตาม|ที่|นางประนอม ทองจันทร์| |กับ| |ด.ช.กิตติพงษ์ แหลมผักแว่น| |และ| |ด.ญ.กาญจนา กรองแก้ว| |ป่วย|สงสัย|ติด|เชื้อ|ไข้|ขณะ|นี้|ยัง|ไม่|ดี|ขึ้น|"
      ]
    },
    {
      "cell_type": "code",
      "execution_count": 4,
      "metadata": {
        "id": "iu-AJSZZuXAi"
      },
      "outputs": [],
      "source": [
        "total_word_count = 0\n",
        "best2010 = []\n",
        "with open('BEST2010/news.txt','r',encoding='utf-8') as f:\n",
        "  for i,line in enumerate(f):\n",
        "    line=line.strip()[:-1] #remove the trailing |\n",
        "    total_word_count += len(line.split(\"|\"))\n",
        "    best2010.append(line)"
      ]
    },
    {
      "cell_type": "code",
      "execution_count": 5,
      "metadata": {
        "id": "3WfpGgbruXAj"
      },
      "outputs": [
        {
          "name": "stdout",
          "output_type": "stream",
          "text": [
            "Total sentences in BEST2010 news dataset :\t30969\n",
            "Total word counts in BEST2010 news dataset :\t1660190\n"
          ]
        }
      ],
      "source": [
        "#For simplicity, we assumes that each line is a sentence.\n",
        "print (f'Total sentences in BEST2010 news dataset :\\t{len(best2010)}')\n",
        "print (f'Total word counts in BEST2010 news dataset :\\t{total_word_count}')"
      ]
    },
    {
      "cell_type": "markdown",
      "metadata": {
        "id": "_JD9iXF1uXAm"
      },
      "source": [
        "We separate the input into 2 sets, train and test data with 70:30 ratio"
      ]
    },
    {
      "cell_type": "code",
      "execution_count": 6,
      "metadata": {
        "id": "_WGcQq_juXAm"
      },
      "outputs": [
        {
          "name": "stdout",
          "output_type": "stream",
          "text": [
            "Total sentences in BEST2010 news training dataset :\t21678\n",
            "Total word counts in BEST2010 news training dataset :\t1042797\n"
          ]
        }
      ],
      "source": [
        "sentences = best2010\n",
        "# The data is separated to train and test set with 70:30 ratio.\n",
        "train = sentences[:int(len(sentences)*0.7)]\n",
        "test = sentences[int(len(sentences)*0.7):]\n",
        "\n",
        "#Training data\n",
        "train_word_count =0\n",
        "for line in train:\n",
        "    for word in line.split('|'):\n",
        "        train_word_count+=1\n",
        "print ('Total sentences in BEST2010 news training dataset :\\t'+ str(len(train)))\n",
        "print ('Total word counts in BEST2010 news training dataset :\\t'+ str(train_word_count))"
      ]
    },
    {
      "cell_type": "markdown",
      "metadata": {
        "id": "17x6tW-3ae7Z"
      },
      "source": [
        "Here we load the data from Wikipedia which is also already tokenized. It will be used for answering questions in MyCourseville."
      ]
    },
    {
      "cell_type": "code",
      "execution_count": 7,
      "metadata": {
        "id": "0fAl6dTg_9HG"
      },
      "outputs": [],
      "source": [
        "import pandas as pd\n",
        "wiki_data = pd.read_csv(\"tokenized_wiki_sample.csv\")"
      ]
    },
    {
      "cell_type": "markdown",
      "metadata": {
        "id": "H1W5bm-hbQXa"
      },
      "source": [
        "## Data Preprocessing\n",
        "\n",
        "Before training any language models, the first step we always do is process the data into the format suited for the LM.\n",
        "\n",
        "For this exercise, we will use NLTK to help process our data."
      ]
    },
    {
      "cell_type": "code",
      "execution_count": 8,
      "metadata": {
        "id": "4OIqxJB7P29D"
      },
      "outputs": [],
      "source": [
        "from nltk.lm.preprocessing import pad_both_ends, flatten\n",
        "from nltk.lm.vocabulary import Vocabulary\n",
        "from nltk import ngrams"
      ]
    },
    {
      "cell_type": "markdown",
      "metadata": {
        "id": "Oy0ZN2_0bzRr"
      },
      "source": [
        "We begin by \"tokenizing\" our training set. Note that the data is already tokenized so we can just split it."
      ]
    },
    {
      "cell_type": "code",
      "execution_count": 9,
      "metadata": {
        "id": "WQM0PXnXbzCN"
      },
      "outputs": [],
      "source": [
        "tokenized_train = [t.split(\"|\") for t in train] # \"tokenize\" each sentence"
      ]
    },
    {
      "cell_type": "markdown",
      "metadata": {
        "id": "TM2ylNRNcrg9"
      },
      "source": [
        "Next we create a vocabulary with the ```Vocabulary``` class from NLTK. It accepts a list of tokens so we flatten our sentences into one long sentence first.\n",
        "\n",
        "\n",
        "\n",
        "\n",
        "\n"
      ]
    },
    {
      "cell_type": "code",
      "execution_count": 10,
      "metadata": {
        "id": "Tbp-VmkHcq4d"
      },
      "outputs": [],
      "source": [
        "flat_tokens = list(flatten(tokenized_train)) #join all sentences into one long sentence\n",
        "vocab = Vocabulary(flat_tokens, unk_cutoff=3) #Words with frequency **below** 3 (not exactly 3) will not be considered in our vocab and will be converted to <UNK>.\n",
        "vocab.update([\"<s>\", \"</s>\"])"
      ]
    },
    {
      "cell_type": "markdown",
      "metadata": {
        "id": "oFnBHe6ScAaV"
      },
      "source": [
        "Then we replace low frequency words and pad each sentence with \\<s\\> in the front and \\</s\\> in the back of each sentence.\n",
        "\n",
        "Now *each* sentence is going to look something like this:\n",
        "\\[\"\\<s\\>\", \"hello\", \"my\", \"name\", \"is\", \"\\<UNK\\>\", \"\\</s\\>\" \\]"
      ]
    },
    {
      "cell_type": "code",
      "execution_count": 11,
      "metadata": {
        "id": "9q6QakuibxqN"
      },
      "outputs": [],
      "source": [
        "tokenized_train = [[token if token in vocab else \"<UNK>\" for token in sentence] for sentence in tokenized_train]\n",
        "padded_tokenized_train = [list(pad_both_ends(sentence, n=2)) for sentence in tokenized_train]"
      ]
    },
    {
      "cell_type": "markdown",
      "metadata": {
        "id": "Dn6GxaSFeSpD"
      },
      "source": [
        "Finally, we do the same for the test set and the wiki dataset."
      ]
    },
    {
      "cell_type": "code",
      "execution_count": 12,
      "metadata": {
        "id": "D4N6qKrPadIj"
      },
      "outputs": [],
      "source": [
        "tokenized_test = [t.split(\"|\") for t in test]\n",
        "tokenized_test = [[token if token in vocab else \"<UNK>\" for token in sentence] for sentence in tokenized_test]\n",
        "padded_tokenized_test = [list(pad_both_ends(sentence, n=2)) for sentence in tokenized_test]\n",
        "\n",
        "tokenized_wiki_test = [t.split(\"|\") for t in wiki_data['tokenized'].tolist()]\n",
        "tokenized_wiki_test = [[token if token in vocab else \"<UNK>\" for token in sentence] for sentence in tokenized_wiki_test]\n",
        "padded_tokenized_wiki_test = [list(pad_both_ends(sentence, n=2)) for sentence in tokenized_wiki_test]"
      ]
    },
    {
      "cell_type": "markdown",
      "metadata": {
        "id": "pHtCMFMluXAo"
      },
      "source": [
        "# Unigram"
      ]
    },
    {
      "cell_type": "markdown",
      "metadata": {
        "id": "2V1WQTGzuXAp"
      },
      "source": [
        "In this section, we will demonstrate how to build a unigram language model <br>\n",
        "**Important note:** <br>\n",
        "**\\<s\\>** = sentence start symbol <br>\n",
        "**\\</s\\>** = sentence end symbol"
      ]
    },
    {
      "cell_type": "markdown",
      "metadata": {
        "id": "Xd7qOd7KAYWM"
      },
      "source": [
        "# VERY IMPORTANT:\n",
        "- In this notebook, we will *not* default the unknown token probability to ```1/len(vocab)``` but instead will treat it as a normal word and let the model learn its probability so that we can compare our results to NLTK.\n",
        "- **Also make sure that the code in this notebook can be executed without any problem. If we find that you used NLTK to answer questions in MyCourseVille and did not finish the assignment, you will receive a grade of 0 for this assignment.**"
      ]
    },
    {
      "cell_type": "code",
      "execution_count": 13,
      "metadata": {
        "id": "CTV-i9kdse58"
      },
      "outputs": [],
      "source": [
        "class UnigramModel():\n",
        "  def __init__(self, data, vocab):\n",
        "    self.unigram_count = defaultdict(lambda: 0.0)\n",
        "    self.word_count = 0\n",
        "    self.vocab = vocab\n",
        "    for sentence in data:\n",
        "      for w in sentence: #[(word1, ), (word2, ), (word3, )...]\n",
        "        w = w[0]\n",
        "        if w in self.vocab:\n",
        "          self.unigram_count[w] +=1.0\n",
        "        else:\n",
        "          self.unigram_count[\"<UNK>\"] += 1.0\n",
        "        self.word_count+=1\n",
        "\n",
        "  def __getitem__(self, w):\n",
        "    w = w[0]  #[(word1, ), (word2, ), (word3, )...]\n",
        "    if w in self.vocab:\n",
        "      return self.unigram_count[w]/(self.word_count)\n",
        "    else:\n",
        "      return self.unigram_count[\"<UNK>\"]/(self.word_count)"
      ]
    },
    {
      "cell_type": "code",
      "execution_count": 14,
      "metadata": {
        "id": "FnWJJ8Hqs8Qs"
      },
      "outputs": [],
      "source": [
        "train_unigrams = [list(ngrams(sent, n=1)) for sent in padded_tokenized_train] #creating the unigrams by setting n=1\n",
        "model = UnigramModel(train_unigrams, vocab)"
      ]
    },
    {
      "cell_type": "code",
      "execution_count": 15,
      "metadata": {
        "id": "6coGxSY7uXAt"
      },
      "outputs": [],
      "source": [
        "def getLnValue(x):\n",
        "      return math.log(x)"
      ]
    },
    {
      "cell_type": "code",
      "execution_count": 16,
      "metadata": {
        "id": "cFy8yhZjuXAv"
      },
      "outputs": [
        {
          "name": "stdout",
          "output_type": "stream",
          "text": [
            "-2.8280048315526183\n",
            "-2.8280048315526183\n",
            "Problability of a sentence 1.5741554829931142e-13\n"
          ]
        }
      ],
      "source": [
        "#problability of 'นายก'\n",
        "print(getLnValue(model['นายก']))\n",
        "\n",
        "#for example, problability of 'นายกรัฐมนตรี' which is an unknown word is equal to\n",
        "print(getLnValue(model['นายกรัฐมนตรี']))\n",
        "\n",
        "#problability of 'นายก' 'ได้' 'ให้' 'สัมภาษณ์' 'กับ' 'สื่อ'\n",
        "prob = getLnValue(model['นายก'])+getLnValue(model['ได้'])+ getLnValue(model['ให้'])+getLnValue(model['สัมภาษณ์'])+getLnValue(model['กับ'])+getLnValue(model['สื่อ'])+getLnValue(model['</s>'])\n",
        "print ('Problability of a sentence', math.exp(prob))"
      ]
    },
    {
      "cell_type": "markdown",
      "metadata": {
        "id": "D8EfqnDsuXAw"
      },
      "source": [
        "# Perplexity\n",
        "\n",
        "In order to compare language model we need to calculate perplexity. In this task you should write a perplexity calculation code for the unigram model. The result perplexity should be around 420.67 and\n",
        "345.12 on train and test data."
      ]
    },
    {
      "cell_type": "markdown",
      "metadata": {
        "id": "hZHQ-6tVuXAx"
      },
      "source": [
        "## TODO #1 Calculate perplexity"
      ]
    },
    {
      "cell_type": "code",
      "execution_count": 17,
      "metadata": {
        "id": "kh0DwzoouXAx"
      },
      "outputs": [],
      "source": [
        "def getLnValue(x):\n",
        "    return math.log(x) # ln(x)\n",
        "\n",
        "def calculate_sentence_ln_prob(sentence, model):\n",
        "    ln_prob = 0.0\n",
        "    for word in sentence:\n",
        "        ln_prob += getLnValue(model[word])\n",
        "    return ln_prob\n",
        "\n",
        "def perplexity(test,model):\n",
        "    ln_prob_sum = 0.0\n",
        "    word_count = 0\n",
        "    for sentence in test:\n",
        "        ln_prob_sum += calculate_sentence_ln_prob(sentence, model)\n",
        "        word_count += len(sentence)\n",
        "    avg_ln_prob = ln_prob_sum/word_count\n",
        "    return math.exp(-avg_ln_prob)"
      ]
    },
    {
      "cell_type": "code",
      "execution_count": 18,
      "metadata": {
        "id": "X-t_8mEzRxT-"
      },
      "outputs": [],
      "source": [
        "test_unigrams = [list(ngrams(sent, n=1)) for sent in padded_tokenized_test]"
      ]
    },
    {
      "cell_type": "code",
      "execution_count": 19,
      "metadata": {
        "id": "PztVYprdtBja"
      },
      "outputs": [
        {
          "name": "stdout",
          "output_type": "stream",
          "text": [
            "420.6667499545085\n",
            "345.11942873411994\n"
          ]
        }
      ],
      "source": [
        "print(perplexity(train_unigrams,model))\n",
        "print(perplexity(test_unigrams,model))"
      ]
    },
    {
      "cell_type": "markdown",
      "metadata": {
        "id": "PHnBXtt3b-OY"
      },
      "source": [
        "## Q1 MCV\n",
        "Calculate the perplexity of the model on the wiki test set and answer in MyCourseVille"
      ]
    },
    {
      "cell_type": "code",
      "execution_count": 20,
      "metadata": {
        "id": "JRd6hF_WSBl_"
      },
      "outputs": [],
      "source": [
        "wiki_test_unigrams = [list(ngrams(sent, n=1)) for sent in padded_tokenized_wiki_test]"
      ]
    },
    {
      "cell_type": "code",
      "execution_count": 21,
      "metadata": {
        "id": "I_LiSohADNLC"
      },
      "outputs": [
        {
          "name": "stdout",
          "output_type": "stream",
          "text": [
            "419.56889624155025\n",
            "rounded: 420\n"
          ]
        }
      ],
      "source": [
        "print(perplexity([list(flatten(wiki_test_unigrams))], model))\n",
        "print(f\"rounded: {round(perplexity([list(flatten(wiki_test_unigrams))], model))}\")"
      ]
    },
    {
      "cell_type": "markdown",
      "metadata": {
        "id": "lK0gaMf0uXA2"
      },
      "source": [
        "# Bigram"
      ]
    },
    {
      "cell_type": "markdown",
      "metadata": {
        "id": "dmTkAY_QuXA3"
      },
      "source": [
        "Next, you will create a better language model than a unigram (which is not much to compare with). But first, it is very tedious to count every pair of words that occur in our corpus by ourselves. Lucky for us, nltk provides us a simple library which will simplify the process."
      ]
    },
    {
      "cell_type": "code",
      "execution_count": 22,
      "metadata": {
        "id": "Lv6r2LJ1uXA4"
      },
      "outputs": [
        {
          "name": "stdout",
          "output_type": "stream",
          "text": [
            "This is how nltk generate bigram.\n",
            "<s> I\n",
            "I always\n",
            "always search\n",
            "search google\n",
            "google for\n",
            "for an\n",
            "an answer\n",
            "answer .\n",
            ". </s>\n",
            "\n",
            "<s> and </s> are used as a start and end of sentence symbol. respectively.\n"
          ]
        }
      ],
      "source": [
        "#example of nltk usage for bigram\n",
        "sentence = 'I always search google for an answer .'\n",
        "padded_sentence = list(pad_both_ends(sentence.split(), n=2))\n",
        "\n",
        "print('This is how nltk generate bigram.')\n",
        "for w1,w2 in bigrams(padded_sentence):\n",
        "    print(w1,w2)\n",
        "print('\\n<s> and </s> are used as a start and end of sentence symbol. respectively.')"
      ]
    },
    {
      "cell_type": "markdown",
      "metadata": {
        "id": "5R2T-6i9uXA6"
      },
      "source": [
        "Now, you should be able to implement a bigram model by yourself. Also, you must create a new perplexity calculation for bigram. The result perplexity should be around 56.46 and 85.38 on train and test data."
      ]
    },
    {
      "cell_type": "markdown",
      "metadata": {
        "id": "9aYkjzTzuXA7"
      },
      "source": [
        "## TODO #3 Write Bigram Model"
      ]
    },
    {
      "cell_type": "code",
      "execution_count": 104,
      "metadata": {
        "id": "l4s7oSmjkNuU"
      },
      "outputs": [],
      "source": [
        "class BigramModel():\n",
        "  def __init__(self, data, vocab):\n",
        "    \"\"\"\n",
        "    Args:\n",
        "        data (list of list of tuples): list of sentences, a sentence is a list of tuples (w_i, w_{i+1})\n",
        "    \"\"\"\n",
        "    self.bigram_count = defaultdict(lambda: 0)\n",
        "    self.unigram_count = defaultdict(lambda: 0)\n",
        "    self.word_count = 0\n",
        "    self.vocab = vocab\n",
        "    for sentence in data: # data = list of sentences(list of tuples(w1, w2))\n",
        "      for w1, w2 in sentence: # sentence = [(w1, w2), (w2, w3), (w3, w4), ... , (w_f-1, w_f)]\n",
        "        self.bigram_count[(w1, w2)] += 1\n",
        "        self.unigram_count[w1] += 1\n",
        "        self.word_count += 1\n",
        "      # count last word\n",
        "      self.unigram_count[sentence[-1][-1]] += 1\n",
        "      self.word_count += 1\n",
        "\n",
        "  def __getitem__(self, bigram):\n",
        "    \"\"\"Probability of bigram.\n",
        "    Args:\n",
        "        bigram (tuple): (w1, w2)\n",
        "    Returns:\n",
        "        P(w2|w1) = count(w1, w2) / count(w1)\n",
        "    \"\"\"\n",
        "    w1, w2 = bigram\n",
        "    return self.bigram_count[(w1, w2)] / self.unigram_count[w1]"
      ]
    },
    {
      "cell_type": "markdown",
      "metadata": {
        "id": "i3_Cgu6guXA-"
      },
      "source": [
        "## TODO #4 Write Perplexity for Bigram Model\n",
        "\n",
        "Sum perplexity score at a sentence level, instead of word level"
      ]
    },
    {
      "cell_type": "code",
      "execution_count": 131,
      "metadata": {
        "id": "hICoAhZjAxo1"
      },
      "outputs": [],
      "source": [
        "def calculate_bigram_sentence_ln_prob(bigram_sentence, model):\n",
        "    ln_prob = 0.0\n",
        "    for w1, w2 in bigram_sentence:\n",
        "        prob = model[(w1, w2)]\n",
        "        ln_prob += math.log(prob) if prob>0 else float('-inf')\n",
        "    return ln_prob\n",
        "\n",
        "def perplexity(bigram_data, model):\n",
        "    ln_prob_sum = 0.0\n",
        "    n = 0\n",
        "    for sentence in bigram_data:\n",
        "        ln_prob_sum = calculate_bigram_sentence_ln_prob(sentence, model)\n",
        "        n += len(sentence)\n",
        "    avg_ln_prob = ln_prob_sum/n\n",
        "    # return 2**(-avg_ln_prob)\n",
        "    return math.exp(-avg_ln_prob)"
      ]
    },
    {
      "cell_type": "code",
      "execution_count": 132,
      "metadata": {
        "id": "NxJYI3_TS2gf"
      },
      "outputs": [],
      "source": [
        "train_bigrams = [list(ngrams(sent, n=2)) for sent in padded_tokenized_train]\n",
        "test_bigrams = [list(ngrams(sent, n=2)) for sent in padded_tokenized_test]"
      ]
    },
    {
      "cell_type": "code",
      "execution_count": 133,
      "metadata": {
        "id": "A4DD_RPFtxUo"
      },
      "outputs": [],
      "source": [
        "bigram_model_scratch = BigramModel(train_bigrams, vocab)"
      ]
    },
    {
      "cell_type": "code",
      "execution_count": 134,
      "metadata": {
        "id": "yw4BubpbtuV7"
      },
      "outputs": [
        {
          "name": "stdout",
          "output_type": "stream",
          "text": [
            "56.45504870219316\n",
            "23.979856569091968\n",
            "inf\n"
          ]
        }
      ],
      "source": [
        "print(perplexity([list(flatten(train_bigrams))], bigram_model_scratch))\n",
        "print(perplexity([list(flatten(test_bigrams))[:17]], bigram_model_scratch))\n",
        "print(perplexity([list(flatten(test_bigrams))], bigram_model_scratch))"
      ]
    },
    {
      "cell_type": "markdown",
      "metadata": {
        "id": "PRv294uQcZFC"
      },
      "source": [
        "## Q2 MCV"
      ]
    },
    {
      "cell_type": "code",
      "execution_count": 109,
      "metadata": {
        "id": "kCeRCyOIUWTS"
      },
      "outputs": [],
      "source": [
        "wiki_test_bigrams = [list(ngrams(sent, n=2)) for sent in padded_tokenized_wiki_test]"
      ]
    },
    {
      "cell_type": "code",
      "execution_count": 110,
      "metadata": {
        "id": "q47hutRqIg1z"
      },
      "outputs": [
        {
          "name": "stdout",
          "output_type": "stream",
          "text": [
            "inf\n"
          ]
        }
      ],
      "source": [
        "print(perplexity([list(flatten(wiki_test_bigrams))],bigram_model_scratch))"
      ]
    },
    {
      "cell_type": "markdown",
      "metadata": {
        "id": "9BAF9DQbuXBC"
      },
      "source": [
        "# Smoothing"
      ]
    },
    {
      "cell_type": "markdown",
      "metadata": {
        "id": "jlm75BWLuXBC"
      },
      "source": [
        "Usually any ngram models have a sparsity problem, which means it does not have every possible ngram of words in the dataset. Smoothing techniques can alleviate this problem. In this section, you will implement three basic smoothing methods laplace smoothing, interpolation for bigram, and Knesey-Ney smoothing."
      ]
    },
    {
      "cell_type": "markdown",
      "metadata": {
        "id": "jwa7YQiouXBD"
      },
      "source": [
        "## TODO #5 write Bigram with Laplace smoothing (Add-One Smoothing)\n",
        "\n",
        "The result perplexity on training and testing should be:\n",
        "\n",
        "    370.23, 361.25 for Laplace smoothing"
      ]
    },
    {
      "cell_type": "code",
      "execution_count": 148,
      "metadata": {
        "id": "j2Bw4C9T_UEs"
      },
      "outputs": [
        {
          "name": "stdout",
          "output_type": "stream",
          "text": [
            "370.22795716115024 (=370.23)\n",
            "361.25384919283107 (=361.25)\n"
          ]
        }
      ],
      "source": [
        "class BigramWithLaplaceSmoothing():\n",
        "\n",
        "  def __init__(self, data, vocab):\n",
        "    self.bigram_count = defaultdict(lambda: 0)\n",
        "    self.unigram_count = defaultdict(lambda: 0)\n",
        "    self.vocab = vocab\n",
        "    self.vocab_size = len(vocab)\n",
        "    self.word_count = 0\n",
        "    for sentence in data: # data = list of sentences(list of tuples(w1, w2))\n",
        "      for w1, w2 in sentence: # sentence = [(w1, w2), (w2, w3), (w3, w4), ... , (w_f-1, w_f)]\n",
        "        self.bigram_count[(w1, w2)] += 1\n",
        "        self.unigram_count[w1] += 1\n",
        "        self.word_count += 1\n",
        "      # Count the last word\n",
        "      self.unigram_count[sentence[-1][-1]] += 1\n",
        "      self.word_count += 1\n",
        "\n",
        "  def __getitem__(self, bigram):\n",
        "    \"\"\"Probability of bigram.\n",
        "    Args:\n",
        "        bigram (tuple): (w1, w2)\n",
        "    Returns:\n",
        "        P(w2|w1) = count(w1, w2)+1 / count(w1)+V\n",
        "    \"\"\"\n",
        "    w1, w2 = bigram\n",
        "    numerator = self.bigram_count[(w1, w2)] + 1\n",
        "    denominator = self.unigram_count[w1] + self.vocab_size\n",
        "    return numerator / denominator\n",
        "\n",
        "\n",
        "model = BigramWithLaplaceSmoothing(train_bigrams, vocab)\n",
        "print(perplexity([list(flatten(train_bigrams))],model), f\"(={round(perplexity([list(flatten(train_bigrams))],model), 2)})\")\n",
        "print(perplexity([list(flatten(test_bigrams))], model), f\"(={round(perplexity([list(flatten(test_bigrams))], model), 2)})\")"
      ]
    },
    {
      "cell_type": "markdown",
      "metadata": {
        "id": "mFT4uhIGhP0c"
      },
      "source": [
        "## Q3 MCV"
      ]
    },
    {
      "cell_type": "code",
      "execution_count": 139,
      "metadata": {
        "id": "jSH60cshIpDy"
      },
      "outputs": [
        {
          "name": "stdout",
          "output_type": "stream",
          "text": [
            "737.5315171494517\n",
            "rounded: 738\n"
          ]
        }
      ],
      "source": [
        "print(perplexity([list(flatten(wiki_test_bigrams))],model))\n",
        "print(f\"rounded: {round(perplexity([list(flatten(wiki_test_bigrams))],model))}\")"
      ]
    },
    {
      "cell_type": "markdown",
      "metadata": {
        "id": "5JDswBSIuXBG"
      },
      "source": [
        "## TODO #6 Write Bigram with Interpolation\n",
        "Set the lambda value as 0.7 for bigram, 0.25 for unigram, and 0.05 for unknown word.\n",
        "\n",
        "The result perplexity on training and testing should be:\n",
        "\n",
        "    70.07, 102.67 for Interpolation"
      ]
    },
    {
      "cell_type": "code",
      "execution_count": null,
      "metadata": {
        "id": "PIeDBLarvZUT"
      },
      "outputs": [],
      "source": [
        "class BigramWithInterpolation():\n",
        "\n",
        "  def __init__(self, data, vocab, l = 0.7):\n",
        "    self.unigram_count = defaultdict(lambda: 0.0)\n",
        "    self.bigram_count = defaultdict(lambda: 0.0)\n",
        "    self.total_word_count = 0\n",
        "    self.vocab = vocab\n",
        "    self.l = l #l for lambda\n",
        "    for sentence in data:\n",
        "        for w1, w2 in sentence:\n",
        "            self.bigram_count[(w1,w2)] += 1.0\n",
        "            self.unigram_count[w1] += 1.0\n",
        "            self.total_word_count += 1\n",
        "\n",
        "        #account of the last word of each sentence\n",
        "        self.unigram_count[w2] += 1.0\n",
        "        self.total_word_count += 1\n",
        "\n",
        "  def __getitem__(self, bigram):\n",
        "      w1, w2 = bigram\n",
        "      unigram_prob = self.unigram_count[w2]/self.total_word_count\n",
        "      bigram_prob = self.bigram_count[(w1,w2)]/self.unigram_count[w1]\n",
        "\n",
        "      return 0.7*bigram_prob + 0.25*unigram_prob + 0.05*(1/len(self.vocab))\n",
        "\n",
        "model = BigramWithInterpolation(train_bigrams, vocab)\n",
        "print(perplexity([list(flatten(train_bigrams))],model))\n",
        "print(perplexity([list(flatten(test_bigrams))], model))"
      ]
    },
    {
      "cell_type": "markdown",
      "metadata": {
        "id": "i-GlmJUIhN7s"
      },
      "source": [
        "## Q4 MCV"
      ]
    },
    {
      "cell_type": "code",
      "execution_count": null,
      "metadata": {
        "id": "EilXywU-IuNU"
      },
      "outputs": [],
      "source": [
        "print(perplexity([list(flatten(wiki_test_bigrams))],model))"
      ]
    },
    {
      "cell_type": "markdown",
      "metadata": {
        "id": "pUorP-EWuXBM"
      },
      "source": [
        "## Language modeling on multiple domains\n",
        "\n",
        "Sometimes, we do not have enough data to create a language model for a new domain. In that case, we can improvised by combining several models to improve result on the new domain.\n",
        "\n",
        "In this exercise you will try to merge two language models from news and article domains to create a language model for the encyclopedia domain."
      ]
    },
    {
      "cell_type": "code",
      "execution_count": null,
      "metadata": {
        "id": "Jel9Hx69uXBN"
      },
      "outputs": [],
      "source": [
        "# create encyclopeida data (test data)\n",
        "encyclo_data=[]\n",
        "with open('BEST2010/encyclopedia.txt','r',encoding='utf-8') as f:\n",
        "    for i,line in enumerate(f):\n",
        "        encyclo_data.append(line.strip()[:-1])"
      ]
    },
    {
      "cell_type": "markdown",
      "metadata": {
        "id": "Jlla-S8YYRur"
      },
      "source": [
        "(news) First, you should try to calculate perplexity of your bigram with interpolation on encyclopedia data. The  perplexity should be around 236.329"
      ]
    },
    {
      "cell_type": "code",
      "execution_count": null,
      "metadata": {
        "id": "gkRm8W4UWyfc"
      },
      "outputs": [],
      "source": [
        "encyclopedia_bigrams = ..."
      ]
    },
    {
      "cell_type": "code",
      "execution_count": null,
      "metadata": {
        "id": "x0l91qLEuXBP"
      },
      "outputs": [],
      "source": [
        "# 1) news only on \"encyclopedia\"\n",
        "print(perplexity([list(flatten(encyclopedia_bigrams))], model))"
      ]
    },
    {
      "cell_type": "markdown",
      "metadata": {
        "id": "hwV9j9U-uXBR"
      },
      "source": [
        "## TODO #7 - Langauge Modelling on Multiple Domains\n",
        "Combine news and article datasets to create another bigram model and evaluate it on the encyclopedia data."
      ]
    },
    {
      "cell_type": "markdown",
      "metadata": {
        "id": "9skdgo8muXBO"
      },
      "source": [
        "\n",
        "\n",
        "(article) For your information, a bigram model with interpolation using article data to test on encyclopedia data has a perplexity of 218.55"
      ]
    },
    {
      "cell_type": "code",
      "execution_count": null,
      "metadata": {
        "id": "LOA8fd53uXBU"
      },
      "outputs": [],
      "source": [
        "# 2) article only on \"encyclopedia\"\n",
        "best2010_article=[]\n",
        "with open('BEST2010/article.txt','r',encoding='utf-8') as f:\n",
        "    for i,line in enumerate(f):\n",
        "        best2010_article.append(line.strip()[:-1])\n",
        "\n",
        "combined_total_word_count = 0\n",
        "for line in best2010_article:\n",
        "    combined_total_word_count += len(line.split('|'))\n",
        "\n",
        "article_bigrams = ...\n",
        "article_vocab = ...\n",
        "\n",
        "model = BigramWithInterpolation(article_bigrams, article_vocab)"
      ]
    },
    {
      "cell_type": "code",
      "execution_count": null,
      "metadata": {
        "id": "7bLYcPvXYHkB"
      },
      "outputs": [],
      "source": [
        "print('Perplexity of the bigram model using article data with interpolation smoothing on encyclopedia test data',perplexity([list(flatten(encyclopedia_bigrams))], model))"
      ]
    },
    {
      "cell_type": "code",
      "execution_count": null,
      "metadata": {
        "id": "wBjmLhUcuXBS"
      },
      "outputs": [],
      "source": [
        "# 3) train on news + article, test on \"encyclopedia\"\n",
        "best2010_article_and_news = best2010_article.copy()\n",
        "with open('BEST2010/news.txt','r',encoding='utf-8') as f:\n",
        "    for i,line in enumerate(f):\n",
        "        best2010_article_and_news.append(line.strip()[:-1])\n",
        "\n",
        "combined_bigrams = ...\n",
        "combined_vocab = ...\n",
        "\n",
        "combined_model = BigramWithInterpolation(combined_bigrams, combined_vocab)\n",
        "print('Perplexity of the combined Bigram model with interpolation smoothing on encyclopedia test data',perplexity([list(flatten(encyclopedia_bigrams))], combined_model))"
      ]
    },
    {
      "cell_type": "markdown",
      "metadata": {
        "id": "SlFkJh-a_de8"
      },
      "source": [
        "## Q5 MCV\n",
        "\n",
        "Did you get a better or worse result when using combined data?"
      ]
    },
    {
      "cell_type": "markdown",
      "metadata": {
        "id": "XNPEhD7WuXBV"
      },
      "source": [
        "## TODO #8 - Kneser-ney on \"News\"\n",
        "\n",
        "<!-- Reimplement equation 4.33 in SLP textbook (https://lagunita.stanford.edu/c4x/Engineering/CS-224N/asset/slp4.pdf) -->\n",
        "\n",
        "Implement Bigram Knerser-ney LM. The result perplexity should be around 65.81, 92.88 on train and test data. Be careful not to mix up vocab from the above section!\n"
      ]
    },
    {
      "cell_type": "code",
      "execution_count": null,
      "metadata": {
        "id": "Y_8xFf7tBqpc"
      },
      "outputs": [],
      "source": [
        "class BigramKneserNey():\n",
        "\n",
        "  def __init__(self, data, vocab):\n",
        "    pass\n",
        "\n",
        "\n",
        "  def __getitem__(self, x):\n",
        "    pass\n",
        "\n",
        "model = BigramKneserNey(train_bigrams, vocab)\n",
        "print(perplexity([list(flatten(train_bigrams))],model))\n",
        "print(perplexity([list(flatten(train_bigrams))[:1000]],model))\n",
        "print(perplexity([list(flatten(test_bigrams))[:1000]], model))\n",
        "print(perplexity([list(flatten(test_bigrams))], model))"
      ]
    },
    {
      "cell_type": "markdown",
      "metadata": {
        "id": "ULDScRw-g8Yn"
      },
      "source": [
        "## Q6 MCV"
      ]
    },
    {
      "cell_type": "code",
      "execution_count": null,
      "metadata": {
        "id": "eSZ1Pb9WvfWC"
      },
      "outputs": [],
      "source": [
        "print(perplexity([list(flatten(wiki_test_bigrams))],model))"
      ]
    }
  ],
  "metadata": {
    "colab": {
      "provenance": [],
      "toc_visible": true
    },
    "kernelspec": {
      "display_name": "datascience",
      "language": "python",
      "name": "python3"
    },
    "language_info": {
      "codemirror_mode": {
        "name": "ipython",
        "version": 3
      },
      "file_extension": ".py",
      "mimetype": "text/x-python",
      "name": "python",
      "nbconvert_exporter": "python",
      "pygments_lexer": "ipython3",
      "version": "3.11.11"
    }
  },
  "nbformat": 4,
  "nbformat_minor": 0
}

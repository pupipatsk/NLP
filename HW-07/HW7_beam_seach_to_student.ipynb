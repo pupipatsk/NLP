{
  "cells": [
    {
      "cell_type": "markdown",
      "id": "pDRbfJqgPfdr",
      "metadata": {
        "id": "pDRbfJqgPfdr"
      },
      "source": [
        "# HW7: Beam Search Decoding - News Headline Generation"
      ]
    },
    {
      "cell_type": "markdown",
      "id": "fSDxXAqSPeBB",
      "metadata": {
        "id": "fSDxXAqSPeBB"
      },
      "source": [
        "In this exercise, you are going to learn and implement decoding techniques for sequence generation. Usually, the sequence is generated word-by-word from a model. In each step, the model predicted the most likely word based on the predicted words in previous steps (this is called auto-regressive decoding).\n",
        "\n",
        "As such, it is very important how you decide on what to predicted at each step, as it will be conditioned on to predicted all of the following steps. We will implement two of main decoding techniques introduced in the lecture: **Greedy Decoding** and **Beam Search Decoding**. Greedy Decoding immediately chooses the word with best score at each step, while Beam Search Decoding focuses on the sequence that give the best score overall.\n",
        "\n",
        "To complete this exercise, you will need to complete the methods for decoding for a text generation model trained on [New York Times Comments and Headlines dataset](https://www.kaggle.com/aashita/nyt-comments). The model is trained to predict a headline for the news given seed text. You do not need to train any model model in this exercise as we provide both the pretrained model and dictionary.\n"
      ]
    },
    {
      "cell_type": "markdown",
      "id": "YFlSAvCfiZXf",
      "metadata": {
        "id": "YFlSAvCfiZXf"
      },
      "source": [
        "## Download model and vocab and setup"
      ]
    },
    {
      "cell_type": "code",
      "execution_count": 9,
      "id": "q5gRmwtdiYjp",
      "metadata": {
        "id": "q5gRmwtdiYjp"
      },
      "outputs": [],
      "source": [
        "# !wget -O vocab.txt \"https://www.dropbox.com/s/ht12ua9vpkep6l8/hw9_vocab.txt?dl=0\"\n",
        "# !wget -O model.bin \"https://www.dropbox.com/s/okmri7cnd729rr5/hw9_model.bin?dl=0\""
      ]
    },
    {
      "cell_type": "code",
      "execution_count": 10,
      "id": "i9ITxmo5i-s6",
      "metadata": {
        "id": "i9ITxmo5i-s6"
      },
      "outputs": [],
      "source": [
        "import torch\n",
        "import torch.nn as nn\n",
        "from tokenizers import Tokenizer\n",
        "from tokenizers.models import WordLevel\n",
        "from tokenizers.pre_tokenizers import Whitespace"
      ]
    },
    {
      "cell_type": "code",
      "execution_count": 11,
      "id": "VcDZCYkEi0b4",
      "metadata": {
        "id": "VcDZCYkEi0b4"
      },
      "outputs": [],
      "source": [
        "class RNNmodel(nn.Module):\n",
        "    def __init__(self, vocab_size, embedding_dim, dropout_rate):\n",
        "\n",
        "        super().__init__()\n",
        "        self.embedding_dim = embedding_dim\n",
        "\n",
        "        self.embedding = nn.Embedding(vocab_size, embedding_dim)\n",
        "        self.rnn = nn.LSTM(embedding_dim, 128, num_layers=2,\n",
        "                     batch_first=True)\n",
        "        self.dropout = nn.Dropout(dropout_rate)\n",
        "        self.fc2 = nn.Linear(128, vocab_size)\n",
        "\n",
        "    def forward(self, src):\n",
        "        embedding = self.embedding(src)\n",
        "        output,_ = self.rnn(embedding)\n",
        "        output = self.dropout(output)\n",
        "        prediction = self.fc2(output)\n",
        "        return prediction"
      ]
    },
    {
      "cell_type": "code",
      "execution_count": 12,
      "id": "6bZt9R0JjL8l",
      "metadata": {
        "id": "6bZt9R0JjL8l"
      },
      "outputs": [
        {
          "data": {
            "text/plain": [
              "RNNmodel(\n",
              "  (embedding): Embedding(10054, 64)\n",
              "  (rnn): LSTM(64, 128, num_layers=2, batch_first=True)\n",
              "  (dropout): Dropout(p=0.2, inplace=False)\n",
              "  (fc2): Linear(in_features=128, out_features=10054, bias=True)\n",
              ")"
            ]
          },
          "execution_count": 12,
          "metadata": {},
          "output_type": "execute_result"
        }
      ],
      "source": [
        "with open(\"vocab.txt\") as f:\n",
        "  vocab_file = f.readlines()\n",
        "embedding_dim = 64\n",
        "dropout_rate = 0.2\n",
        "\n",
        "model = RNNmodel(len(vocab_file), embedding_dim, dropout_rate)\n",
        "model.load_state_dict(torch.load(\"model.bin\",map_location='cpu'))\n",
        "model.eval()"
      ]
    },
    {
      "cell_type": "code",
      "execution_count": 13,
      "id": "mOEWXsXzjpn6",
      "metadata": {
        "id": "mOEWXsXzjpn6"
      },
      "outputs": [
        {
          "name": "stdout",
          "output_type": "stream",
          "text": [
            "Vocab Size: 10054\n"
          ]
        },
        {
          "data": {
            "text/plain": [
              "['<unk>', '<pad>', '<eos>', 'the', 'a', 'to', 'of', 's', 'in', 'for']"
            ]
          },
          "execution_count": 13,
          "metadata": {},
          "output_type": "execute_result"
        }
      ],
      "source": [
        "vocab = [v.strip() for v in vocab_file]\n",
        "vocab_size = len(vocab)\n",
        "print(f\"Vocab Size: {vocab_size}\")\n",
        "vocab[:10]"
      ]
    },
    {
      "cell_type": "code",
      "execution_count": 14,
      "id": "sem3jbjoF_d8",
      "metadata": {
        "id": "sem3jbjoF_d8"
      },
      "outputs": [
        {
          "name": "stdout",
          "output_type": "stream",
          "text": [
            "Encoding(num_tokens=5, attributes=[ids, type_ids, tokens, offsets, attention_mask, special_tokens_mask, overflowing])\n",
            "[3, 4, 6, 5, 0]\n",
            "['the', 'a', 'of', 'to', '<unk>']\n",
            "the a of to <unk>\n"
          ]
        }
      ],
      "source": [
        "stoi = { ch:i for i,ch in enumerate(vocab) }\n",
        "tokenizer = Tokenizer(WordLevel(stoi, unk_token=\"<unk>\"))\n",
        "tokenizer.pre_tokenizer = Whitespace()\n",
        "tokenized_text = tokenizer.encode(\"the a of to unknowns\")\n",
        "print(tokenized_text)\n",
        "print(tokenized_text.ids)\n",
        "print(tokenized_text.tokens)\n",
        "print(tokenizer.decode(tokenized_text.ids))"
      ]
    },
    {
      "cell_type": "markdown",
      "id": "rSt1yuR19co-",
      "metadata": {
        "id": "rSt1yuR19co-"
      },
      "source": [
        "## 1. TODO: Greedy decode\n",
        "Normally, in sequence generation task, the model will continue generating tokens until an end-of-sequence symbol appear or the maximum length is reached. For this task:\n",
        "- The end-of-sequence symbol is \"< eos >\" and its index is 2\n",
        "- Use the maximum generation length of 15"
      ]
    },
    {
      "cell_type": "code",
      "execution_count": 15,
      "id": "e6638613",
      "metadata": {
        "id": "e6638613"
      },
      "outputs": [],
      "source": [
        "from typing import List, Tuple\n",
        "\n",
        "eos_token = '<eos>'\n",
        "eos_id = vocab.index(eos_token)\n",
        "max_gen_length = 15\n",
        "\n",
        "def greedy_decode(seed_text: str, tokenizer: Tokenizer, model, eos_id: int, max_gen_length: int = 15) -> Tuple[List[int], List[float]]:\n",
        "    \"\"\"Greedy decodes with seed text.\n",
        "\n",
        "        Args:\n",
        "        seed_text: The seed string to be used as initial input to the model.\n",
        "        tokenizer: The tokenizer for converting word to index and back.\n",
        "\n",
        "        Your code should do the followings:\n",
        "          1. Convert current_text to sequences of indices\n",
        "          2. Predict the next token using the model and choose the token with the highest score as output\n",
        "          3. Append the predicted index to current_text\n",
        "          4. Loop until completion\n",
        "          5. Return text prediction and a list of probabilities of each step\n",
        "\n",
        "        You do not need to stop early when end-of-sequence token is generated and can continue decoding\n",
        "        until max_gen_length is reached. We can filter the eos token out later.\n",
        "    \"\"\"\n",
        "    probs: List[float] = []\n",
        "    current_text = torch.Tensor(tokenizer.encode(seed_text).ids).unsqueeze(0).long()\n",
        "    is_eos = False\n",
        "\n",
        "    while len(current_text[0]) < max_gen_length:\n",
        "        prediction = model(current_text)\n",
        "        pred_probs = nn.functional.softmax(prediction[0], dim=-1)\n",
        "\n",
        "        top_probs, top_token_ids = torch.topk(pred_probs, 1)\n",
        "        top_probs.squeeze_(1)\n",
        "        top_token_ids.squeeze_(1)\n",
        "\n",
        "        if top_token_ids[-1].item() == eos_id:\n",
        "            is_eos = True\n",
        "\n",
        "        if not is_eos:\n",
        "            probs.append(top_probs[-1].item())\n",
        "\n",
        "        current_text = torch.cat((current_text, torch.tensor([[top_token_ids[-1]]])), dim=1)\n",
        "\n",
        "    output = current_text[0].tolist()\n",
        "\n",
        "    return output, probs"
      ]
    },
    {
      "cell_type": "code",
      "execution_count": 16,
      "id": "9f78f6c8",
      "metadata": {
        "id": "9f78f6c8"
      },
      "outputs": [],
      "source": [
        "def clean_output(token_ids: List[int], eos_token_id: int, tokenizer: Tokenizer) -> str:\n",
        "    \"\"\"Clean output by removing <eos> token and subsequent tokens.\"\"\"\n",
        "    if eos_token_id in token_ids:\n",
        "        eos_index = token_ids.index(eos_token_id)\n",
        "        token_ids = token_ids[:eos_index]\n",
        "    return tokenizer.decode(token_ids)"
      ]
    },
    {
      "cell_type": "code",
      "execution_count": 17,
      "id": "bdd42c8a",
      "metadata": {
        "id": "bdd42c8a"
      },
      "outputs": [
        {
          "name": "stdout",
          "output_type": "stream",
          "text": [
            "Seed: to\n",
            "Output: to encourage creativity in the new york bill\n",
            "Probabilities: [0.04071057215332985, 0.26613089442253113, 0.258160263299942, 0.2311653345823288, 0.07794327288866043, 0.06978043168783188, 0.224452406167984]\n",
            "\n",
            "Seed: america\n",
            "Output: america s lethal export\n",
            "Probabilities: [0.44965630769729614, 0.046399760991334915, 0.7206984758377075]\n",
            "\n",
            "Seed: people\n",
            "Output: people to balloon to make a criminal with a dog with a callous rival\n",
            "Probabilities: [0.35848551988601685, 0.039465878158807755, 0.2695296108722687, 0.03377290070056915, 0.28156769275665283, 0.030896661803126335, 0.32625600695610046, 0.3224417567253113, 0.03489115834236145, 0.22298383712768555, 0.5808295607566833, 0.04674490541219711, 0.26616615056991577]\n",
            "\n",
            "Seed: next\n",
            "Output: next phenom english clubs 2 call another deal in the same arrivals\n",
            "Probabilities: [0.17242398858070374, 0.2323562502861023, 0.7396275997161865, 0.07888377457857132, 0.04404321685433388, 0.05769364535808563, 0.03296956792473793, 0.33040109276771545, 0.6040392518043518, 0.03174597769975662, 0.07468782365322113]\n",
            "\n",
            "Seed: picture\n",
            "Output: picture perfect chapter a spot of view of banning care\n",
            "Probabilities: [0.2500002682209015, 0.017607517540454865, 0.025983216241002083, 0.053818922489881516, 0.3106665015220642, 0.040469080209732056, 0.2489880919456482, 0.04575815051794052, 0.08654510229825974]\n",
            "\n",
            "Seed: on\n",
            "Output: on the catwalk in saudi arabia\n",
            "Probabilities: [0.30775684118270874, 0.022049730643630028, 0.2477516084909439, 0.1831989884376526, 0.7695589661598206]\n",
            "\n"
          ]
        }
      ],
      "source": [
        "sample_seeds = [\"to\", \"america\", \"people\", \"next\", \"picture\", \"on\"]\n",
        "for seed in sample_seeds:\n",
        "    output_text, probs = greedy_decode(seed, tokenizer, model, eos_id)\n",
        "    cleaned_text = clean_output(output_text, eos_id, tokenizer)\n",
        "    print(f\"Seed: {seed}\\nOutput: {cleaned_text}\\nProbabilities: {probs}\\n\")"
      ]
    },
    {
      "cell_type": "markdown",
      "id": "h99jCVvjUvFT",
      "metadata": {
        "id": "h99jCVvjUvFT"
      },
      "source": [
        "Your output should be:\n",
        "\n",
        "*   to encourage creativity in the new york bill\n",
        "*   america s lethal export\n",
        "*   people to balloon to make a criminal with a dog with a callous rival\n",
        "*   next phenom english clubs 2 call another deal in the same arrivals\n",
        "*   picture perfect chapter a spot of view of banning care  \n",
        "*   on the catwalk in saudi arabia\n",
        "\n",
        "\n",
        "\n",
        "\n",
        "\n"
      ]
    },
    {
      "cell_type": "markdown",
      "id": "7553f608",
      "metadata": {
        "id": "7553f608"
      },
      "source": [
        "## 2. TODO: Beam search decode\n",
        "\n",
        "Another well-known decoding method is beam search decoding that focuses more on the overall sequence score.\n",
        "\n",
        "Instead of greedily choosing the token with the highest score for each step, beam search decoding expands all possible next tokens and keeps the __k__ most likely sequence at each step, where __k__ is a user-specified beam size. A sequence score is also calculated according user-specified cal_score() function.\n",
        "The beam with the highest score after the decoding process is done will be the output."
      ]
    },
    {
      "cell_type": "markdown",
      "id": "8kArvA-6xLmQ",
      "metadata": {
        "id": "8kArvA-6xLmQ"
      },
      "source": [
        "There are a few things that you need to know before implementing a beam search decoder:\n",
        "- When the eos token is produced, you can stop expanding that beam\n",
        "- However, the ended beams must be sorted together with active beams\n",
        "- The decoding ends when every beams are either ended or reached the maximum length, but for this task, you can continue decoding until the max_gen_len is reached\n",
        "- We usually work with probability in log scale to avoid numerical underflow. You should use np.log(score) before any calculation\n",
        "- **As probabilities for some classes will be very small, you must add a very small value to the score before taking log e.g np.log(prob + 0.00000001)**"
      ]
    },
    {
      "cell_type": "markdown",
      "id": "MQRZftUYxcCU",
      "metadata": {
        "id": "MQRZftUYxcCU"
      },
      "source": [
        "#### Sequence Score\n",
        "The naive way to calculate the sequence score is to __multiply every token scores__ together. However, doing so will make the decoder prefer shorter sequence as you multiply the sequence score with a value between \\[0,1\\] for every tokens in the sequence. Thus, we usually normalize the sequence score with its length by calculating its __geometric mean__ instead.\n",
        "\n",
        "**You should do this in log scale**"
      ]
    },
    {
      "cell_type": "code",
      "execution_count": null,
      "id": "d76c6f52",
      "metadata": {
        "id": "d76c6f52"
      },
      "outputs": [],
      "source": [
        "def cal_score(score_list, length, normalized=False): #cal score for each beam from a list of probs\n",
        "\n",
        "    if normalized:\n",
        "        pass\n",
        "    else:\n",
        "        pass\n",
        "    return"
      ]
    },
    {
      "cell_type": "code",
      "execution_count": null,
      "id": "bb1dd75a",
      "metadata": {
        "id": "bb1dd75a"
      },
      "outputs": [],
      "source": [
        "def beam_search_decode(seed_text, max_gen_len, tokenizer, beam_size=5, normalized=False):\n",
        "    \"\"\"We will do beam search decoing using seed text in this function.\n",
        "\n",
        "    Output:\n",
        "    beams: A list of top k beams after the decoding ended, each beam is a list of\n",
        "      [seed_text, list of scores, length]\n",
        "\n",
        "    Your code should do the followings:\n",
        "    1.Loop until max_gen_len is reached.\n",
        "    2.During each step, loop thorugh each beam and use it to predict the next word.\n",
        "      If a beam is already ended, continues without expanding.\n",
        "    3.Sort all hypotheses according to cal_score().\n",
        "    4.Keep top k hypotheses to be used at the next step.\n",
        "    \"\"\"\n",
        "    # For each beam we will store (generated text, list of scores, and current length, is_finished)\n",
        "    # Add initial beam\n",
        "    beams = [[[seed_text], [], 0, False]]\n",
        "    for _ in range(max_gen_len):\n",
        "      pass\n",
        "\n",
        "    return beams"
      ]
    },
    {
      "cell_type": "markdown",
      "id": "i_eqGDA09zqk",
      "metadata": {
        "id": "i_eqGDA09zqk"
      },
      "source": [
        "## 3. Generate!\n",
        "Generate 6 sentences based on the given seed texts.\n",
        "\n",
        "Decode with the provided seed texts with beam_size 5, max_gen_len 10. Compare the results between greedy, normalized, and unnormalized decoding.\n",
        "\n",
        "Print the result using greedy decoding and top 2 results each using unnormalized and normalized decoing for each seed text.\n",
        "\n",
        "Also, print scores of each candidate according to cal_score(). Use normalization for greedy decoding."
      ]
    },
    {
      "cell_type": "code",
      "execution_count": null,
      "id": "d40a3cb0",
      "metadata": {
        "id": "d40a3cb0"
      },
      "outputs": [],
      "source": [
        "sample_seeds = [\"to\", \"america\", \"people\", \"next\", \"picture\", \"on\"]\n",
        "max_gen_len=10\n",
        "for seed in sample_seeds:\n",
        "    pass"
      ]
    },
    {
      "cell_type": "markdown",
      "id": "icfu6pOzWUSt",
      "metadata": {
        "id": "icfu6pOzWUSt"
      },
      "source": [
        "Your output should be:\n",
        "\n",
        "\n",
        "```\n",
        "-Greedy-\n",
        "to encourage creativity in the new york bill  0.13\n",
        "-Unnormalized-\n",
        "To Consult Exploring Recipes For New Jersey 0.00\n",
        "To Consult Exploring Recipes Up The Pacific Northwest 0.00\n",
        "-Normalized-\n",
        "To Consult Exploring Recipes Up The Pacific Northwest 0.17\n",
        "To Consult Exploring Recipes Up The Least Of The Week 0.16\n",
        "\n",
        "-Greedy-\n",
        "america s lethal export  0.25\n",
        "-Unnormalized-\n",
        "America S Lethal Export 0.02\n",
        "America S Desert Aisles 0.01\n",
        "-Normalized-\n",
        "America S Lethal Export 0.25\n",
        "America S Desert Aisles 0.20\n",
        "\n",
        "-Greedy-\n",
        "people to balloon to make a criminal with a dog with a callous rival  0.14\n",
        "-Unnormalized-\n",
        "People To Balloon For A Criminal 0.00\n",
        "People To Balloon For A Criminal With Trump 0.00\n",
        "-Normalized-\n",
        "People To Balloon For A Criminal With A Second Fiddle 0.13\n",
        "People To Balloon For A Criminal With Trump 0.13\n",
        "\n",
        "-Greedy-\n",
        "next phenom english clubs 2 call another deal in the same arrivals  0.12\n",
        "-Unnormalized-\n",
        "Next S Blist Revue 0.00\n",
        "Next Phenom English Clubs 1 A Chance To Be Back 0.00\n",
        "-Normalized-\n",
        "Next S Blist Revue 0.14\n",
        "Next Phenom English Clubs 1 A Chance To Be Back 0.14\n",
        "\n",
        "-Greedy-\n",
        "picture perfect chapter a spot of view of banning care  0.08\n",
        "-Unnormalized-\n",
        "Picture Perfect Use Coffee 0.00\n",
        "Picture Korean A Bonanza Of Pancakes 0.00\n",
        "-Normalized-\n",
        "Picture Korean A Bonanza Of Contemplation Times Of Trump S Son 0.12\n",
        "Picture Korean A Bonanza Of Pancakes 0.07\n",
        "\n",
        "-Greedy-\n",
        "on the catwalk in saudi arabia  0.19\n",
        "-Unnormalized-\n",
        "On The Billboard Chart 0.00\n",
        "On The Catwalk In Saudi Arabia 0.00\n",
        "-Normalized-\n",
        "On The Whole30 Diet Vowing To Eat Smarter Carbs To Be 0.27\n",
        "On The Whole30 Diet Vowing To Eat Smarter Carbs For Because 0.26\n",
        "\n",
        "```\n",
        "\n"
      ]
    },
    {
      "cell_type": "markdown",
      "id": "tquJVskBeM9m",
      "metadata": {
        "id": "tquJVskBeM9m"
      },
      "source": [
        "# Answer Questions in MyCourseVille!\n",
        "\n",
        "Use the seed word \"usa\" to answer questions in MCV."
      ]
    }
  ],
  "metadata": {
    "colab": {
      "provenance": [],
      "toc_visible": true
    },
    "kernelspec": {
      "display_name": "datascience",
      "language": "python",
      "name": "python3"
    },
    "language_info": {
      "codemirror_mode": {
        "name": "ipython",
        "version": 3
      },
      "file_extension": ".py",
      "mimetype": "text/x-python",
      "name": "python",
      "nbconvert_exporter": "python",
      "pygments_lexer": "ipython3",
      "version": "3.11.11"
    }
  },
  "nbformat": 4,
  "nbformat_minor": 5
}

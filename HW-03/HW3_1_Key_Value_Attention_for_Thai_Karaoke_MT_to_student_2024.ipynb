{
  "cells": [
    {
      "cell_type": "markdown",
      "metadata": {
        "id": "OfUmXr1D1ZSR"
      },
      "source": [
        "# Key-Value Attention for Thai Karaoke Character-level Machine Translation (Many-to-Many, encoder-decoder)\n",
        "\n",
        "In this homework, you will create an MT model with attention mechnism that coverts names of Thai 2019 MP candidates from Thai script to Roman(Latin) script. E.g. นิยม-->niyom\n",
        "\n",
        "The use of Pytorch Lightning is optional but recommended. You can use Pytorch if you prefer."
      ]
    },
    {
      "cell_type": "code",
      "execution_count": 1,
      "metadata": {
        "id": "18KMSkqZ-Pt-"
      },
      "outputs": [],
      "source": [
        "# !pip install lightning wandb\n",
        "# !wget https://github.com/Phonbopit/sarabun-webfont/raw/master/fonts/thsarabunnew-webfont.ttf\n",
        "# !curl -L -O https://github.com/Phonbopit/sarabun-webfont/raw/master/fonts/thsarabunnew-webfont.ttf"
      ]
    },
    {
      "cell_type": "code",
      "execution_count": 2,
      "metadata": {
        "colab": {
          "base_uri": "https://localhost:8080/"
        },
        "id": "SKCBCWKARZEx",
        "outputId": "6ad8a585-fd68-44ee-deac-37143137cbcc"
      },
      "outputs": [
        {
          "name": "stderr",
          "output_type": "stream",
          "text": [
            "\u001b[34m\u001b[1mwandb\u001b[0m: Currently logged in as: \u001b[33mpupipat-sk\u001b[0m (\u001b[33mpupipatsk\u001b[0m). Use \u001b[1m`wandb login --relogin`\u001b[0m to force relogin\n",
            "\u001b[34m\u001b[1mwandb\u001b[0m: \u001b[33mWARNING\u001b[0m If you're specifying your api key in code, ensure this code is not shared publicly.\n",
            "\u001b[34m\u001b[1mwandb\u001b[0m: \u001b[33mWARNING\u001b[0m Consider setting the WANDB_API_KEY environment variable, or running `wandb login` from the command line.\n",
            "\u001b[34m\u001b[1mwandb\u001b[0m: Appending key for api.wandb.ai to your netrc file: /Users/pupipatsingkhorn/.netrc\n"
          ]
        },
        {
          "data": {
            "text/plain": [
              "True"
            ]
          },
          "execution_count": 2,
          "metadata": {},
          "output_type": "execute_result"
        }
      ],
      "source": [
        "import os\n",
        "import wandb\n",
        "# !wandb login $WANDB_API_KEY\n",
        "wandb.login(key=os.getenv(\"WANDB_API_KEY\"))"
      ]
    },
    {
      "cell_type": "code",
      "execution_count": 3,
      "metadata": {
        "id": "ka2TN8IV1ZSU"
      },
      "outputs": [],
      "source": [
        "%matplotlib inline\n",
        "import matplotlib as mpl\n",
        "mpl.font_manager.fontManager.addfont('thsarabunnew-webfont.ttf') # 3.2+\n",
        "mpl.rc('font', family='TH Sarabun New')\n",
        "import torch\n",
        "# import torchtext\n",
        "import torch.nn as nn\n",
        "import torch.nn.functional as F\n",
        "import torch.optim as optim\n",
        "import lightning as L\n",
        "import numpy as np\n",
        "\n",
        "import random"
      ]
    },
    {
      "cell_type": "markdown",
      "metadata": {
        "id": "x-f_s6vX1ZSZ"
      },
      "source": [
        "## Load Dataset\n",
        "We have generated a toy dataset using names of Thai MP candidates in 2019 Thai General Election from elect.in.th's github(https://github.com/codeforthailand/dataset-election-62-candidates) and tltk (https://pypi.org/project/tltk/) library to convert them into Roman script.\n",
        "\n",
        "```\n",
        "ไกรสีห์ kraisi\n",
        "พัชรี phatri\n",
        "ธีระ thira\n",
        "วุฒิกร wutthikon\n",
        "ไสว sawai\n",
        "สัมภาษณ์  samphat\n",
        "วศิน wasin\n",
        "ทินวัฒน์ thinwat\n",
        "ศักดินัย sakdinai\n",
        "สุรศักดิ์ surasak\n",
        "```\n"
      ]
    },
    {
      "cell_type": "code",
      "execution_count": 4,
      "metadata": {
        "colab": {
          "base_uri": "https://localhost:8080/"
        },
        "id": "Jte-Csrf-4kd",
        "outputId": "a1ba364b-64c2-4875-873c-90bc1808a4be"
      },
      "outputs": [],
      "source": [
        "# !wget https://raw.githubusercontent.com/ekapolc/nlp_2019/master/HW8/mp_name_th_en.csv\n",
        "# !curl -L -O https://raw.githubusercontent.com/ekapolc/nlp_2019/master/HW8/mp_name_th_en.csv"
      ]
    },
    {
      "cell_type": "code",
      "execution_count": 5,
      "metadata": {
        "id": "L9zXp7KH1ZSa"
      },
      "outputs": [],
      "source": [
        "import csv\n",
        "\n",
        "with open('mp_name_th_en.csv') as csvfile:\n",
        "    readCSV = csv.reader(csvfile, delimiter=',')\n",
        "    name_th = []\n",
        "    name_en = []\n",
        "    for row in readCSV:\n",
        "        temp_th = row[0]\n",
        "        temp_en = row[1]\n",
        "\n",
        "        name_th.append(temp_th)\n",
        "        name_en.append(temp_en)"
      ]
    },
    {
      "cell_type": "code",
      "execution_count": 6,
      "metadata": {
        "id": "ZCsqrXxu1ZSe"
      },
      "outputs": [
        {
          "name": "stdout",
          "output_type": "stream",
          "text": [
            "ไกรสีห์ kraisi\n",
            "พัชรี phatri\n",
            "ธีระ thira\n",
            "วุฒิกร wutthikon\n",
            "ไสว sawai\n",
            "สัมภาษณ์  samphat\n",
            "วศิน wasin\n",
            "ทินวัฒน์ thinwat\n",
            "ศักดินัย sakdinai\n",
            "สุรศักดิ์ surasak\n"
          ]
        }
      ],
      "source": [
        "for th, en in zip(name_th[:10],name_en[:10]):\n",
        "    print(th,en)"
      ]
    },
    {
      "cell_type": "markdown",
      "metadata": {
        "id": "zvW8xqT81ZSh"
      },
      "source": [
        "## TODO1: Preprocess dataset\n",
        "* You will need 2 vocabularies (1 for input and another for output)\n",
        "* DON'T FORGET TO INCLUDE special token for padding (for both input and output)\n",
        "* DON'T FORGET TO INCLUDE special token for the end of word symbol (output)"
      ]
    },
    {
      "cell_type": "code",
      "execution_count": 7,
      "metadata": {
        "colab": {
          "base_uri": "https://localhost:8080/"
        },
        "id": "_rv1Xd9A1ZSi",
        "outputId": "dece74ae-a492-41a7-f07d-2798157c7fcc"
      },
      "outputs": [
        {
          "name": "stdout",
          "output_type": "stream",
          "text": [
            "There are 10887 lines and 65 unique characters in your input data.\n",
            "There are 10887 lines and 24 unique characters in your output data.\n",
            "Max input length: 20\n",
            "Max output length: 19\n"
          ]
        }
      ],
      "source": [
        "#Preprocessing\n",
        "input_chars = list(set(''.join(name_th)))\n",
        "output_chars = list(set(''.join(name_en)))\n",
        "data_size, vocab_size = len(name_th), len(input_chars)+1 #+1 for PADDING\n",
        "output_vocab_size = len(output_chars)+2 #+2 for special end of sentence token, PADDING\n",
        "print('There are %d lines and %d unique characters in your input data.' % (data_size, vocab_size))\n",
        "print('There are %d lines and %d unique characters in your output data.' % (len(name_en), output_vocab_size))\n",
        "\n",
        "maxlen = len( max(name_th, key=len)) #max input length\n",
        "maxlen_out = len( max(name_en, key=len)) #max output length\n",
        "print(\"Max input length:\", maxlen)\n",
        "print(\"Max output length:\", maxlen_out)"
      ]
    },
    {
      "cell_type": "code",
      "execution_count": 8,
      "metadata": {},
      "outputs": [
        {
          "name": "stdout",
          "output_type": "stream",
          "text": [
            "[58, 2, 34, 39, 49, 40, 64]\n",
            "ไกรสีห์\n"
          ]
        }
      ],
      "source": [
        "# TODO:\n",
        "# input(TH), special tokens: <PAD>\n",
        "sorted_chars= sorted(input_chars)\n",
        "sorted_chars.insert(0,\"<PAD>\")\n",
        "\n",
        "# output(EN), special tokens: <PAD>, </s>\n",
        "sorted_output_chars = sorted(output_chars)\n",
        "sorted_output_chars.insert(0,\"<PAD>\")\n",
        "sorted_output_chars.insert(1,\"</s>\")\n",
        "\n",
        "def create_tokenizer(sorted_chars: list[str]):\n",
        "    \"\"\"\n",
        "    Create a character-level tokenizer with mappings and encoding/decoding functions.\n",
        "\n",
        "    Args:\n",
        "        sorted_chars (list of str): Sorted list of unique characters.\n",
        "\n",
        "    Returns:\n",
        "        - 'chr_to_int_mapping': Character-to-integer mapping.\n",
        "        - 'int_to_chr_mapping': Integer-to-character mapping.\n",
        "        - 'encode': Function to encode a string into a list of integers.\n",
        "        - 'decode': Function to decode a list of integers into a string.\n",
        "    \"\"\"\n",
        "    chr_to_int_mapping = {ch: i for i, ch in enumerate(sorted_chars)} # chr_to_int_mapping[char] = int\n",
        "    int_to_chr_mapping = {i: ch for i, ch in enumerate(sorted_chars)} # int_to_chr_mapping[int] = char\n",
        "    encode = lambda s: [chr_to_int_mapping[c] for c in s] # encoder: take a string, output a list of integers\n",
        "    decode = lambda l: ''.join([int_to_chr_mapping[i] for i in l]) # decoder: take a list of integers, output a string\n",
        "    return chr_to_int_mapping, int_to_chr_mapping, encode, decode\n",
        "\n",
        "input_stoi, input_itos, input_encode, input_decode = create_tokenizer(sorted_chars)\n",
        "output_stoi, output_itos, output_encode, output_decode = create_tokenizer(sorted_output_chars)\n",
        "\n",
        "# ex.\n",
        "print(input_encode(name_th[0]))\n",
        "print(input_decode(input_encode(name_th[0])))"
      ]
    },
    {
      "cell_type": "code",
      "execution_count": 9,
      "metadata": {},
      "outputs": [
        {
          "name": "stdout",
          "output_type": "stream",
          "text": [
            "torch.Size([10887, 20]) tensor([[58,  2, 34,  ...,  0,  0,  0],\n",
            "        [29, 45,  9,  ...,  0,  0,  0],\n",
            "        [23, 49, 34,  ...,  0,  0,  0],\n",
            "        ...,\n",
            "        [ 2, 32, 35,  ...,  0,  0,  0],\n",
            "        [31, 36, 45,  ...,  0,  0,  0],\n",
            "        [29, 45, 17,  ...,  0,  0,  0]])\n",
            "torch.Size([10887, 19]) tensor([[12, 18,  3,  ...,  0,  0,  0],\n",
            "        [17, 10,  3,  ...,  0,  0,  0],\n",
            "        [20, 10, 11,  ...,  0,  0,  0],\n",
            "        ...,\n",
            "        [12,  3, 14,  ...,  0,  0,  0],\n",
            "        [17, 10,  3,  ...,  0,  0,  0],\n",
            "        [17, 10,  3,  ...,  0,  0,  0]])\n"
          ]
        }
      ],
      "source": [
        "# TODO:\n",
        "from typing import Callable, List\n",
        "\n",
        "def preprocess_name_to_tensor(\n",
        "    name_data: List[str], encode_fn: Callable[[List[str]], List[int]]\n",
        ") -> torch.Tensor:\n",
        "    \"\"\"\n",
        "    Convert a list of names into a tensor of encoded integers.\n",
        "\n",
        "    Args:\n",
        "        name_data (List[str]): List of names (strings) to be encoded.\n",
        "        encode_fn (Callable[[List[str]], List[int]]): Encoding function to convert characters to integers.\n",
        "\n",
        "    Returns:\n",
        "        torch.Tensor: Tensor of encoded names. Padded if `pad=True`.\n",
        "    \"\"\"\n",
        "    lst = []\n",
        "    for name_str in name_data:\n",
        "        name_lst = [c for c in name_str]\n",
        "        lst.append(torch.tensor(encode_fn(name_lst)))  # Encode and convert to tensor\n",
        "\n",
        "    # Pad sequences to ensure uniform length\n",
        "    return nn.utils.rnn.pad_sequence(lst, batch_first=True, padding_value=0)\n",
        "\n",
        "X = preprocess_name_to_tensor(name_th, input_encode)\n",
        "Y = preprocess_name_to_tensor(name_en, output_encode)\n",
        "\n",
        "# ex.\n",
        "print(X.shape, X)\n",
        "print(Y.shape, Y)"
      ]
    },
    {
      "cell_type": "code",
      "execution_count": 10,
      "metadata": {
        "id": "-yirzlseC9NS"
      },
      "outputs": [
        {
          "name": "stdout",
          "output_type": "stream",
          "text": [
            "torch.Size([16, 20, 65]) torch.Size([16, 19])\n",
            "(batch size, max sequence length, num classes)\n"
          ]
        }
      ],
      "source": [
        "from torch.utils.data import Dataset, DataLoader\n",
        "\n",
        "\n",
        "# TODO:\n",
        "class NameDataset(Dataset):\n",
        "    def __init__(self, X, y):\n",
        "        self.X = X.long()\n",
        "        self.y = y.long()\n",
        "\n",
        "    def __getitem__(self, idx):\n",
        "        return {\"x\": self.X[idx], \"y\": self.y[idx]}\n",
        "\n",
        "    def __len__(self):\n",
        "        return len(self.X)\n",
        "\n",
        "\n",
        "# TODO:\n",
        "class NameDataModule(L.LightningDataModule):\n",
        "    def __init__(self, train_data, y, batch_size, num_workers=0):\n",
        "        super().__init__()\n",
        "        self.train_data = train_data\n",
        "        self.y = y\n",
        "        self.batch_size = batch_size\n",
        "        self.num_workers = num_workers\n",
        "\n",
        "    def setup(self, stage: str):\n",
        "        pass\n",
        "\n",
        "    def collate_fn(self, batch, num_classes=len(input_stoi)):\n",
        "        one_hot_x = torch.stack(\n",
        "            [F.one_hot(b[\"x\"], num_classes=num_classes) for b in batch]\n",
        "        )\n",
        "        return {\"x\": one_hot_x.float(), \"y\": torch.stack([b[\"y\"] for b in batch])}\n",
        "\n",
        "    def train_dataloader(self, shuffle=True):\n",
        "        train_dataset = NameDataset(self.train_data, self.y)\n",
        "        train_loader = DataLoader(\n",
        "            train_dataset,\n",
        "            batch_size=self.batch_size,\n",
        "            shuffle=shuffle,\n",
        "            collate_fn=self.collate_fn,\n",
        "            num_workers=self.num_workers,\n",
        "        )\n",
        "        return train_loader\n",
        "\n",
        "\n",
        "# Initialize the DataModule\n",
        "batch_size = 16\n",
        "data_module = NameDataModule(X, Y, batch_size=batch_size, num_workers=0)\n",
        "# ex.\n",
        "for batch in data_module.train_dataloader():\n",
        "    print(batch[\"x\"].shape, batch[\"y\"].shape)\n",
        "    print(\"(batch size, max sequence length, num classes)\")\n",
        "    break"
      ]
    },
    {
      "cell_type": "markdown",
      "metadata": {
        "id": "HFSG1FqK1ZSy"
      },
      "source": [
        "# Attention Mechanism\n"
      ]
    },
    {
      "cell_type": "markdown",
      "metadata": {
        "id": "HAlOrhbismQp"
      },
      "source": [
        "## TODO 2: Code your own (key-value) attention mechnism\n",
        "* PLEASE READ: you DO NOT have to follow all the details in (Daniluk, et al. 2017). You just need to create a key-value attention mechanism where the \"key\" part of the mechanism is used for attention score calculation, and the \"value\" part of the mechanism is used to encode information to create a context vector.  \n",
        "* fill code for one_step_attention function\n",
        "\n"
      ]
    },
    {
      "cell_type": "code",
      "execution_count": 11,
      "metadata": {
        "id": "avnlc6p9BZDv"
      },
      "outputs": [],
      "source": [
        "# TODO:\n",
        "def one_step_attention(h, s_prev, fc_1, fc_2):\n",
        "    \"\"\"\n",
        "    Args:\n",
        "        h (torch.Tensor): Encoder outputs of shape (batch, seq_len, hidden_dim_enc).\n",
        "        s_prev (torch.Tensor): Previous decoder hidden state of shape (batch, hidden_dim_dec).\n",
        "    \"\"\"\n",
        "    # Split into Key-Value\n",
        "    key, value = torch.split(h, h.size(-1)//2, dim=-1)\n",
        "    # key: (batch, seq_len, key_dim=hidden_dim_enc/2), value: (batch, seq_len, value_dim=hidden_dim_enc/2)\n",
        "\n",
        "    # Do concat with s_prev.\n",
        "    #hint: you will need to use s_prev.repeat(...) somehow so that it has the same dimension as the key\n",
        "    #hint2: s_prev.unsqueeze() could also be useful\n",
        "    s_prev = s_prev.unsqueeze(1) # (batch, 1, hidden_dim_dec)\n",
        "    s_prev = s_prev.repeat(1, key.size(1), 1) # (batch, seq_len, hidden_dim_dec)\n",
        "    concat = torch.cat([key, s_prev], dim=-1) # (batch, seq_len, key_dim(=hidden_dim_enc/2) + hidden_dim_dec)\n",
        "\n",
        "    # Attention function:\n",
        "    # use layer(s) from your model to calculate attention_score and then softmax\n",
        "    # fc_1: (batch, seq_len, key_dim + hidden_dim_dec) -> (batch, seq_len, attention_hidden_dim=hidden_dim_enc)\n",
        "    # fc_2: (batch, seq_len, attention_hidden_dim=hidden_dim_enc) -> (batch, seq_len, 1)\n",
        "    attention_score = F.relu(fc_2(F.tanh(fc_1(concat)))) # (batch, seq_len, 1)\n",
        "    attention_score = F.softmax(attention_score, dim=1) # (batch, seq_len, 1)\n",
        "\n",
        "    # calculate a context vector\n",
        "    context = torch.mul(attention_score, value) # (batch, seq_len, value_dim=hidden_dim_enc/2)\n",
        "    context = torch.sum(context, dim=1) # (batch, value_dim=hidden_dim_enc/2)\n",
        "    return context, attention_score"
      ]
    },
    {
      "cell_type": "markdown",
      "metadata": {
        "id": "6zWN02ZtuOIU"
      },
      "source": [
        "# Translation Model"
      ]
    },
    {
      "cell_type": "markdown",
      "metadata": {
        "id": "0phyUQYg1ZS8"
      },
      "source": [
        "## TODO3: Create and train your encoder/decoder model here"
      ]
    },
    {
      "cell_type": "code",
      "execution_count": 12,
      "metadata": {
        "id": "Ji_rUPhK1ZS9"
      },
      "outputs": [],
      "source": [
        "class AttentionModel(L.LightningModule):\n",
        "    def __init__(\n",
        "        self,\n",
        "        learning_rate=0.01,\n",
        "        criterion=nn.CrossEntropyLoss(),\n",
        "        input_vocab: dict = input_stoi,\n",
        "        output_vocab: dict = output_stoi,\n",
        "    ):\n",
        "        super().__init__()\n",
        "        # TODO:\n",
        "        self.n_h = 32  # hidden dimensions for encoder\n",
        "        self.n_s = 64  # hidden dimensions for decoder\n",
        "        self.learning_rate = learning_rate\n",
        "        self.criterion = criterion\n",
        "        self.input_vocab = input_vocab\n",
        "        self.output_vocab = output_vocab\n",
        "\n",
        "        # Encoder: can be any RNN of your choice -> Bidirectional LSTM\n",
        "        # nn.LSTM return: output, (h_n, c_n)\n",
        "        # BiLSTM-Output: h (batch_size, seq_len, 2*n_h), _ (h_n, c_n)\n",
        "        self.encoder = nn.LSTM(\n",
        "            len(self.input_vocab), self.n_h, batch_first=True, bidirectional=True\n",
        "        )\n",
        "\n",
        "        # Decoder: has to be (any) RNNCell since we will need to calculate attention for each timestep manually\n",
        "        self.decoder_lstm_cell = nn.LSTMCell(input_size=self.n_h, hidden_size=self.n_s)\n",
        "\n",
        "        # Attention:\n",
        "        attention_input_dim = self.n_h + self.n_s  # 96 =32(2dir*32/2)+64=96 # key_dim(=hidden_dim_enc/2) + hidden_dim_dec\n",
        "        attention_hidden_dim = self.n_h  # 32\n",
        "        self.attention_fc_1 = nn.Linear(attention_input_dim, attention_hidden_dim) # 96 -> 32\n",
        "        self.attention_fc_2 = nn.Linear(attention_hidden_dim, 1)  # 32 -> 1\n",
        "\n",
        "        # Output layer:\n",
        "        self.output_layer = nn.Linear(\n",
        "            in_features=self.n_s, out_features=len(self.output_vocab)\n",
        "        )\n",
        "\n",
        "    def forward(self, src, return_attention=False, max_output_length=maxlen_out):\n",
        "        # TODO:\n",
        "        \"\"\"\n",
        "        Args:\n",
        "            src: Input sequence (batch_size, seq_len).\n",
        "            return_attention: use only when you want to get the attention scores for visualizing\n",
        "        \"\"\"\n",
        "        # pass the input to the encoder\n",
        "        h, _ = self.encoder(src)  # h: (batch_size, seq_len, 2 * n_h)\n",
        "\n",
        "        # Initialize the LSTM states:\n",
        "        # We have to do this since we are using LSTMCell (https://pytorch.org/docs/stable/generated/torch.nn.LSTMCell.html)\n",
        "        # these states will get updated while we are decoding\n",
        "        batch_size = src.shape[0]\n",
        "        decoder_s = torch.randn(batch_size, self.n_s).to(\n",
        "            self.decoder_lstm_cell.weight_ih.device\n",
        "        )\n",
        "        decoder_c = torch.randn(batch_size, self.n_s).to(\n",
        "            self.decoder_lstm_cell.weight_ih.device\n",
        "        )\n",
        "\n",
        "        # Initialize prediction tensor\n",
        "        prediction = torch.zeros(\n",
        "            (batch_size, max_output_length, len(self.output_vocab))\n",
        "        ).to(self.decoder_lstm_cell.weight_ih.device)\n",
        "\n",
        "        # Iterate until max_output_length (Decoding)\n",
        "        attention_scores = []  # to store the score for each step\n",
        "        for t in range(max_output_length):\n",
        "            # Perform one step of the attention mechanism to calculate the context vector at timestep t\n",
        "            context, attention_score = one_step_attention(\n",
        "                h, decoder_s, self.attention_fc_1, self.attention_fc_2\n",
        "            )\n",
        "            attention_scores.append(attention_score)\n",
        "            # Feed the context vector to the decoder.\n",
        "            decoder_input = context\n",
        "            decoder_s, decoder_c = self.decoder_lstm_cell(\n",
        "                decoder_input, (decoder_s, decoder_c)\n",
        "            )\n",
        "            # Pass the decoder hidden output to the output layer (softmax)\n",
        "            out = self.output_layer(decoder_s)  # (batch_size, len(self.output_vocab))\n",
        "            # Put the predicted output into the list for this timestep\n",
        "            prediction[:, t] = out\n",
        "\n",
        "        return (prediction, attention_scores if return_attention else None)\n",
        "\n",
        "    def training_step(self, batch, batch_idx):\n",
        "        src = batch[\"x\"]\n",
        "        target = batch[\"y\"]\n",
        "        prediction, _ = self(src)\n",
        "        prediction = prediction.reshape(-1, len(self.output_vocab))\n",
        "        target = target.reshape(-1)\n",
        "        loss = self.criterion(prediction, target)\n",
        "        self.log(\"train_loss\", loss)\n",
        "        return loss\n",
        "\n",
        "    def predict_step(self, batch, batch_idx, dataloader_idx=0):\n",
        "        src = batch[\"x\"]\n",
        "        with torch.no_grad():\n",
        "            prediction, attention_scores = self(src, return_attention=True)\n",
        "            prediction = F.softmax(prediction, dim=-1)\n",
        "            prediction = torch.argmax(prediction, dim=-1)\n",
        "            for pred in prediction:\n",
        "                # TODO:\n",
        "                # print(\"\".join(self.output_vocab.lookup_tokens(pred.cpu().numpy())))\n",
        "                print(\"\".join(output_decode(pred.cpu().numpy())))\n",
        "        return prediction, attention_scores\n",
        "\n",
        "    def configure_optimizers(self):\n",
        "        return optim.Adam(self.parameters(), lr=self.learning_rate)"
      ]
    },
    {
      "cell_type": "code",
      "execution_count": 13,
      "metadata": {
        "id": "7ZMi782c1ZTQ"
      },
      "outputs": [
        {
          "name": "stderr",
          "output_type": "stream",
          "text": [
            "GPU available: True (mps), used: True\n",
            "TPU available: False, using: 0 TPU cores\n",
            "HPU available: False, using: 0 HPUs\n",
            "/var/folders/m6/fz_qjnl51s70hy69d_st2z240000gn/T/ipykernel_49550/596362770.py:19: FutureWarning: You are using `torch.load` with `weights_only=False` (the current default value), which uses the default pickle module implicitly. It is possible to construct malicious pickle data which will execute arbitrary code during unpickling (See https://github.com/pytorch/pytorch/blob/main/SECURITY.md#untrusted-models for more details). In a future release, the default value for `weights_only` will be flipped to `True`. This limits the functions that could be executed during unpickling. Arbitrary objects will no longer be allowed to be loaded via this mode unless they are explicitly allowlisted by the user via `torch.serialization.add_safe_globals`. We recommend you start setting `weights_only=True` for any use case where you don't have full control of the loaded file. Please open an issue on GitHub for any issues related to this experimental feature.\n",
            "  model = torch.load(\"attention-model.pth\")\n"
          ]
        }
      ],
      "source": [
        "from lightning import Trainer\n",
        "from lightning.pytorch.loggers import WandbLogger\n",
        "\n",
        "# Initialize\n",
        "wandb_logger = WandbLogger(project=\"hw3-1-attention\")\n",
        "EPOCHS = 100\n",
        "trainer = L.Trainer(max_epochs=EPOCHS, logger=wandb_logger)\n",
        "model = AttentionModel(\n",
        "    learning_rate=0.01,\n",
        "    criterion=nn.CrossEntropyLoss(),\n",
        "    input_vocab=input_stoi,\n",
        "    output_vocab=output_stoi,\n",
        ")\n",
        "batch_size = 16\n",
        "data_module = NameDataModule(X, Y, batch_size=batch_size, num_workers=0)\n",
        "\n",
        "# Training...\n",
        "# trainer.fit(model, data_module)\n",
        "model = torch.load(\"attention-model.pth\")\n",
        "\n",
        "# Save model\n",
        "torch.save(model, \"attention-model.pth\")"
      ]
    },
    {
      "cell_type": "markdown",
      "metadata": {
        "id": "I5BLw1Ir1ZTT"
      },
      "source": [
        "# Test Your Model"
      ]
    },
    {
      "cell_type": "markdown",
      "metadata": {
        "id": "VRLjZzBMtCdA"
      },
      "source": [
        "## TODO4: Test your model on 5 examples of your choice including your name!\n",
        "\n",
        "Example Output:\n",
        "```\n",
        "prayutthatha</s></s>aa</s></s>a</s>\n",
        "somchai</s></s></s></s>a</s></s>a</s></s></s></s></s>\n",
        "thanathon</s></s></s></s></s></s></s></s></s></s></s>\n",
        "newin</s>i</s></s></s></s></s></s></s></s></s></s></s></s></s>\n",
        "suthep</s>he</s></s></s></s></s></s></s></s></s></s></s>\n",
        "prawit</s></s></s></s></s></s></s></s></s></s></s></s></s></s>\n",
        "chatchachatti</s></s>i</s></s></s></s>\n",
        "```\n",
        "\n",
        "<font color='blue'>Paste your model predictions in MyCourseVille</font>"
      ]
    },
    {
      "cell_type": "code",
      "execution_count": 14,
      "metadata": {},
      "outputs": [
        {
          "name": "stderr",
          "output_type": "stream",
          "text": [
            "\u001b[34m\u001b[1mwandb\u001b[0m: Using wandb-core as the SDK backend.  Please refer to https://wandb.me/wandb-core for more information.\n"
          ]
        },
        {
          "data": {
            "text/html": [
              "Tracking run with wandb version 0.19.2"
            ],
            "text/plain": [
              "<IPython.core.display.HTML object>"
            ]
          },
          "metadata": {},
          "output_type": "display_data"
        },
        {
          "data": {
            "text/html": [
              "Run data is saved locally in <code>./wandb/run-20250122_200137-vvqdqf3q</code>"
            ],
            "text/plain": [
              "<IPython.core.display.HTML object>"
            ]
          },
          "metadata": {},
          "output_type": "display_data"
        },
        {
          "data": {
            "text/html": [
              "Syncing run <strong><a href='https://wandb.ai/pupipatsk/hw3-1-attention/runs/vvqdqf3q' target=\"_blank\">ethereal-smoke-7</a></strong> to <a href='https://wandb.ai/pupipatsk/hw3-1-attention' target=\"_blank\">Weights & Biases</a> (<a href='https://wandb.me/developer-guide' target=\"_blank\">docs</a>)<br>"
            ],
            "text/plain": [
              "<IPython.core.display.HTML object>"
            ]
          },
          "metadata": {},
          "output_type": "display_data"
        },
        {
          "data": {
            "text/html": [
              " View project at <a href='https://wandb.ai/pupipatsk/hw3-1-attention' target=\"_blank\">https://wandb.ai/pupipatsk/hw3-1-attention</a>"
            ],
            "text/plain": [
              "<IPython.core.display.HTML object>"
            ]
          },
          "metadata": {},
          "output_type": "display_data"
        },
        {
          "data": {
            "text/html": [
              " View run at <a href='https://wandb.ai/pupipatsk/hw3-1-attention/runs/vvqdqf3q' target=\"_blank\">https://wandb.ai/pupipatsk/hw3-1-attention/runs/vvqdqf3q</a>"
            ],
            "text/plain": [
              "<IPython.core.display.HTML object>"
            ]
          },
          "metadata": {},
          "output_type": "display_data"
        },
        {
          "name": "stderr",
          "output_type": "stream",
          "text": [
            "/Users/pupipatsingkhorn/miniconda3/envs/datascience/lib/python3.11/site-packages/lightning/pytorch/trainer/connectors/data_connector.py:425: The 'predict_dataloader' does not have many workers which may be a bottleneck. Consider increasing the value of the `num_workers` argument` to `num_workers=7` in the `DataLoader` to improve performance.\n"
          ]
        },
        {
          "data": {
            "application/vnd.jupyter.widget-view+json": {
              "model_id": "b0dce08799764bda9555ad7e794df148",
              "version_major": 2,
              "version_minor": 0
            },
            "text/plain": [
              "Predicting: |          | 0/? [00:00<?, ?it/s]"
            ]
          },
          "metadata": {},
          "output_type": "display_data"
        },
        {
          "name": "stdout",
          "output_type": "stream",
          "text": [
            "phuphiphat<PAD><PAD><PAD><PAD><PAD><PAD><PAD><PAD><PAD>\n",
            "prayuttha<PAD><PAD><PAD><PAD><PAD><PAD><PAD><PAD><PAD><PAD>\n",
            "somchai<PAD><PAD><PAD><PAD><PAD><PAD><PAD><PAD><PAD><PAD><PAD><PAD>\n",
            "thanathon<PAD><PAD><PAD><PAD><PAD><PAD><PAD><PAD><PAD><PAD>\n",
            "newin<PAD><PAD><PAD><PAD><PAD><PAD><PAD><PAD><PAD><PAD><PAD><PAD><PAD><PAD>\n",
            "suthep<PAD><PAD><PAD><PAD><PAD><PAD><PAD><PAD><PAD><PAD><PAD><PAD><PAD>\n",
            "prawit<PAD><PAD><PAD><PAD><PAD><PAD><PAD><PAD><PAD><PAD><PAD><PAD><PAD>\n",
            "chatchachattit<PAD><PAD><PAD><PAD><PAD>\n"
          ]
        }
      ],
      "source": [
        "EXAMPLES = ['ประยุทธ','สมชาย','ธนาธร','เนวิน','สุเทพ','ประวิตร์','ชัชชาติ']\n",
        "EXAMPLES.insert(0, \"ภูภิพัทธ์\")\n",
        "predict_data = preprocess_name_to_tensor(EXAMPLES, input_encode)\n",
        "\n",
        "\n",
        "def collate_fn(batch, num_classes=len(input_stoi)):\n",
        "    one_hot_x = torch.stack([F.one_hot(b[\"x\"], num_classes=num_classes) for b in batch])\n",
        "    return {\"x\": one_hot_x.float()}\n",
        "\n",
        "\n",
        "predict_dataset = NameDataset(\n",
        "    predict_data, torch.tensor([torch.tensor(0)] * len(predict_data))\n",
        ")\n",
        "predict_loader = DataLoader(\n",
        "    predict_dataset, batch_size=1, shuffle=False, collate_fn=collate_fn, num_workers=0\n",
        ")\n",
        "\n",
        "model.eval()\n",
        "output = trainer.predict(model, predict_loader)"
      ]
    },
    {
      "cell_type": "markdown",
      "metadata": {
        "id": "7o3893RL1ZT8"
      },
      "source": [
        "## TODO 5: Show your visualization of attention scores on one of your example\n",
        "\n",
        "<font color='blue'>Paste your visualization image in MyCourseVille</font>"
      ]
    },
    {
      "cell_type": "code",
      "execution_count": 15,
      "metadata": {
        "id": "WHysSqYJ1ZUA"
      },
      "outputs": [],
      "source": [
        "%matplotlib inline\n",
        "import matplotlib.pyplot as plt\n",
        "\n",
        "plt.rcParams.update({\n",
        "    # Axes\n",
        "    'axes.titlesize': 16,\n",
        "    'axes.titlepad': 20,\n",
        "    'axes.labelsize': 12,\n",
        "    'axes.edgecolor': (0.1, 0.1, 0.1),\n",
        "    'axes.labelcolor': (0.1, 0.1, 0.1),\n",
        "    'axes.linewidth': 1,\n",
        "    'axes.spines.top': False,\n",
        "    'axes.spines.right': False,\n",
        "    'axes.spines.bottom': True,\n",
        "    'axes.spines.left': True,\n",
        "    'axes.grid': True,\n",
        "\n",
        "    # Grid\n",
        "    'grid.alpha': 0.7,\n",
        "    'grid.linestyle': '--',\n",
        "    'grid.linewidth': 0.6,\n",
        "\n",
        "    # Lines\n",
        "    'lines.linewidth': 1.5,\n",
        "    'lines.markeredgewidth': 0.0,\n",
        "\n",
        "    # Scatter plot\n",
        "    'scatter.marker': 'x',\n",
        "\n",
        "    # Ticks\n",
        "    'xtick.labelsize': 12,\n",
        "    'xtick.color': (0.1, 0.1, 0.1),\n",
        "    'xtick.direction': 'in',\n",
        "    'ytick.labelsize': 12,\n",
        "    'ytick.color': (0.1, 0.1, 0.1),\n",
        "    'ytick.direction': 'in',\n",
        "\n",
        "    # Figure output\n",
        "    'figure.figsize': (10, 6),\n",
        "    'figure.dpi': 200,\n",
        "    'savefig.dpi': 200,\n",
        "\n",
        "    # Text\n",
        "    'text.color': (0.2, 0.2, 0.2),\n",
        "\n",
        "    # Font\n",
        "    \"font.family\": [\"serif\",\n",
        "                    \"Tahoma\"] # TH Font\n",
        "})"
      ]
    },
    {
      "cell_type": "code",
      "execution_count": 16,
      "metadata": {
        "colab": {
          "base_uri": "https://localhost:8080/",
          "height": 287
        },
        "id": "BF6HD99lYlgQ",
        "outputId": "caaa0716-5b99-43e8-950f-dd0127d0fbb7"
      },
      "outputs": [
        {
          "data": {
            "image/png": "[encoded data removed]",
            "text/plain": [
              "<Figure size 2000x1600 with 2 Axes>"
            ]
          },
          "metadata": {},
          "output_type": "display_data"
        }
      ],
      "source": [
        "import seaborn as sns\n",
        "\n",
        "# TODO:\n",
        "prediction, attention_scores = zip(*output)\n",
        "\n",
        "# Extract predictions and attention scores for the first example\n",
        "sample_pred = prediction[0]\n",
        "sample_pred = [token for token in sample_pred.cpu().numpy().tolist()[0] if token != 0]  # Remove padding tokens\n",
        "sample_attention_scores = attention_scores[0]\n",
        "\n",
        "# Stack the attention scores into a single array\n",
        "attn_viz = torch.stack(sample_attention_scores).squeeze().cpu().numpy()\n",
        "\n",
        "# Crop attention matrix to match the lengths of the input and output\n",
        "attn_viz = attn_viz[:len(sample_pred), :len(EXAMPLES[0])]\n",
        "\n",
        "# Decode output tokens into text\n",
        "output_text = [char for char in output_decode(sample_pred)]\n",
        "\n",
        "# Prepare input labels\n",
        "xlabels = [char for char in EXAMPLES[0]]\n",
        "\n",
        "# Validate dimensions\n",
        "assert attn_viz.shape[0] == len(output_text), \"Row count mismatch: attn_viz and output_text\"\n",
        "assert attn_viz.shape[1] == len(xlabels), \"Column count mismatch: attn_viz and xlabels\"\n",
        "\n",
        "# Plot the heatmap\n",
        "plt.figure(figsize=(10, 8))\n",
        "ax = sns.heatmap(attn_viz, linewidth=0.5)\n",
        "ax.set_yticklabels(output_text, rotation=30)\n",
        "ax.set_xticklabels(xlabels, rotation=60)\n",
        "plt.title(f\"Attention Visualization for '{EXAMPLES[0]}'\")\n",
        "plt.ylabel(\"Output (Romanized Characters)\")\n",
        "plt.xlabel(\"Input (Thai Characters)\")\n",
        "plt.grid(False)\n",
        "plt.show()\n"
      ]
    }
  ],
  "metadata": {
    "accelerator": "GPU",
    "colab": {
      "provenance": [],
      "toc_visible": true
    },
    "gpuClass": "standard",
    "kernelspec": {
      "display_name": "datascience",
      "language": "python",
      "name": "python3"
    },
    "language_info": {
      "codemirror_mode": {
        "name": "ipython",
        "version": 3
      },
      "file_extension": ".py",
      "mimetype": "text/x-python",
      "name": "python",
      "nbconvert_exporter": "python",
      "pygments_lexer": "ipython3",
      "version": "3.11.11"
    }
  },
  "nbformat": 4,
  "nbformat_minor": 0
}
